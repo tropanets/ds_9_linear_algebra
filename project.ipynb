{
 "cells": [
  {
   "cell_type": "markdown",
   "metadata": {
    "toc": true
   },
   "source": [
    "<h1>Содержание<span class=\"tocSkip\"></span></h1>\n",
    "<div class=\"toc\"><ul class=\"toc-item\"><li><span><a href=\"#Загрузка-данных\" data-toc-modified-id=\"Загрузка-данных-1\"><span class=\"toc-item-num\">1&nbsp;&nbsp;</span>Загрузка данных</a></span></li><li><span><a href=\"#Умножение-матриц\" data-toc-modified-id=\"Умножение-матриц-2\"><span class=\"toc-item-num\">2&nbsp;&nbsp;</span>Умножение матриц</a></span></li><li><span><a href=\"#Алгоритм-преобразования\" data-toc-modified-id=\"Алгоритм-преобразования-3\"><span class=\"toc-item-num\">3&nbsp;&nbsp;</span>Алгоритм преобразования</a></span></li><li><span><a href=\"#Проверка-алгоритма\" data-toc-modified-id=\"Проверка-алгоритма-4\"><span class=\"toc-item-num\">4&nbsp;&nbsp;</span>Проверка алгоритма</a></span></li><li><span><a href=\"#Чек-лист-проверки\" data-toc-modified-id=\"Чек-лист-проверки-5\"><span class=\"toc-item-num\">5&nbsp;&nbsp;</span>Чек-лист проверки</a></span></li></ul></div>"
   ]
  },
  {
   "cell_type": "markdown",
   "metadata": {},
   "source": [
    "# Защита персональных данных клиентов"
   ]
  },
  {
   "cell_type": "markdown",
   "metadata": {},
   "source": [
    "Вам нужно защитить данные клиентов страховой компании «Хоть потоп». Разработайте такой метод преобразования данных, чтобы по ним было сложно восстановить персональную информацию. Обоснуйте корректность его работы.\n",
    "\n",
    "Нужно защитить данные, чтобы при преобразовании качество моделей машинного обучения не ухудшилось. Подбирать наилучшую модель не требуется."
   ]
  },
  {
   "cell_type": "markdown",
   "metadata": {},
   "source": [
    "## Загрузка данных"
   ]
  },
  {
   "cell_type": "code",
   "execution_count": 1,
   "metadata": {},
   "outputs": [],
   "source": [
    "import pandas as pd\n",
    "import numpy as np\n",
    "import seaborn as sns\n",
    "import matplotlib.pyplot as plt \n",
    "     \n",
    "from sklearn.model_selection import train_test_split\n",
    "from sklearn.metrics import r2_score\n",
    "from numpy import linalg as LA\n",
    "from sklearn.linear_model import LinearRegression"
   ]
  },
  {
   "cell_type": "code",
   "execution_count": 2,
   "metadata": {},
   "outputs": [],
   "source": [
    "data = pd.read_csv('/datasets/insurance.csv')"
   ]
  },
  {
   "cell_type": "code",
   "execution_count": 3,
   "metadata": {},
   "outputs": [
    {
     "data": {
      "text/html": [
       "<div>\n",
       "<style scoped>\n",
       "    .dataframe tbody tr th:only-of-type {\n",
       "        vertical-align: middle;\n",
       "    }\n",
       "\n",
       "    .dataframe tbody tr th {\n",
       "        vertical-align: top;\n",
       "    }\n",
       "\n",
       "    .dataframe thead th {\n",
       "        text-align: right;\n",
       "    }\n",
       "</style>\n",
       "<table border=\"1\" class=\"dataframe\">\n",
       "  <thead>\n",
       "    <tr style=\"text-align: right;\">\n",
       "      <th></th>\n",
       "      <th>Пол</th>\n",
       "      <th>Возраст</th>\n",
       "      <th>Зарплата</th>\n",
       "      <th>Члены семьи</th>\n",
       "      <th>Страховые выплаты</th>\n",
       "    </tr>\n",
       "  </thead>\n",
       "  <tbody>\n",
       "    <tr>\n",
       "      <th>0</th>\n",
       "      <td>1</td>\n",
       "      <td>41.0</td>\n",
       "      <td>49600.0</td>\n",
       "      <td>1</td>\n",
       "      <td>0</td>\n",
       "    </tr>\n",
       "    <tr>\n",
       "      <th>1</th>\n",
       "      <td>0</td>\n",
       "      <td>46.0</td>\n",
       "      <td>38000.0</td>\n",
       "      <td>1</td>\n",
       "      <td>1</td>\n",
       "    </tr>\n",
       "    <tr>\n",
       "      <th>2</th>\n",
       "      <td>0</td>\n",
       "      <td>29.0</td>\n",
       "      <td>21000.0</td>\n",
       "      <td>0</td>\n",
       "      <td>0</td>\n",
       "    </tr>\n",
       "    <tr>\n",
       "      <th>3</th>\n",
       "      <td>0</td>\n",
       "      <td>21.0</td>\n",
       "      <td>41700.0</td>\n",
       "      <td>2</td>\n",
       "      <td>0</td>\n",
       "    </tr>\n",
       "    <tr>\n",
       "      <th>4</th>\n",
       "      <td>1</td>\n",
       "      <td>28.0</td>\n",
       "      <td>26100.0</td>\n",
       "      <td>0</td>\n",
       "      <td>0</td>\n",
       "    </tr>\n",
       "    <tr>\n",
       "      <th>5</th>\n",
       "      <td>1</td>\n",
       "      <td>43.0</td>\n",
       "      <td>41000.0</td>\n",
       "      <td>2</td>\n",
       "      <td>1</td>\n",
       "    </tr>\n",
       "    <tr>\n",
       "      <th>6</th>\n",
       "      <td>1</td>\n",
       "      <td>39.0</td>\n",
       "      <td>39700.0</td>\n",
       "      <td>2</td>\n",
       "      <td>0</td>\n",
       "    </tr>\n",
       "    <tr>\n",
       "      <th>7</th>\n",
       "      <td>1</td>\n",
       "      <td>25.0</td>\n",
       "      <td>38600.0</td>\n",
       "      <td>4</td>\n",
       "      <td>0</td>\n",
       "    </tr>\n",
       "    <tr>\n",
       "      <th>8</th>\n",
       "      <td>1</td>\n",
       "      <td>36.0</td>\n",
       "      <td>49700.0</td>\n",
       "      <td>1</td>\n",
       "      <td>0</td>\n",
       "    </tr>\n",
       "    <tr>\n",
       "      <th>9</th>\n",
       "      <td>1</td>\n",
       "      <td>32.0</td>\n",
       "      <td>51700.0</td>\n",
       "      <td>1</td>\n",
       "      <td>0</td>\n",
       "    </tr>\n",
       "  </tbody>\n",
       "</table>\n",
       "</div>"
      ],
      "text/plain": [
       "   Пол  Возраст  Зарплата  Члены семьи  Страховые выплаты\n",
       "0    1     41.0   49600.0            1                  0\n",
       "1    0     46.0   38000.0            1                  1\n",
       "2    0     29.0   21000.0            0                  0\n",
       "3    0     21.0   41700.0            2                  0\n",
       "4    1     28.0   26100.0            0                  0\n",
       "5    1     43.0   41000.0            2                  1\n",
       "6    1     39.0   39700.0            2                  0\n",
       "7    1     25.0   38600.0            4                  0\n",
       "8    1     36.0   49700.0            1                  0\n",
       "9    1     32.0   51700.0            1                  0"
      ]
     },
     "execution_count": 3,
     "metadata": {},
     "output_type": "execute_result"
    }
   ],
   "source": [
    "data.head(10)"
   ]
  },
  {
   "cell_type": "code",
   "execution_count": 4,
   "metadata": {},
   "outputs": [
    {
     "name": "stdout",
     "output_type": "stream",
     "text": [
      "<class 'pandas.core.frame.DataFrame'>\n",
      "RangeIndex: 5000 entries, 0 to 4999\n",
      "Data columns (total 5 columns):\n",
      " #   Column             Non-Null Count  Dtype  \n",
      "---  ------             --------------  -----  \n",
      " 0   Пол                5000 non-null   int64  \n",
      " 1   Возраст            5000 non-null   float64\n",
      " 2   Зарплата           5000 non-null   float64\n",
      " 3   Члены семьи        5000 non-null   int64  \n",
      " 4   Страховые выплаты  5000 non-null   int64  \n",
      "dtypes: float64(2), int64(3)\n",
      "memory usage: 195.4 KB\n"
     ]
    }
   ],
   "source": [
    "data.info()"
   ]
  },
  {
   "cell_type": "code",
   "execution_count": 5,
   "metadata": {},
   "outputs": [
    {
     "data": {
      "text/html": [
       "<div>\n",
       "<style scoped>\n",
       "    .dataframe tbody tr th:only-of-type {\n",
       "        vertical-align: middle;\n",
       "    }\n",
       "\n",
       "    .dataframe tbody tr th {\n",
       "        vertical-align: top;\n",
       "    }\n",
       "\n",
       "    .dataframe thead th {\n",
       "        text-align: right;\n",
       "    }\n",
       "</style>\n",
       "<table border=\"1\" class=\"dataframe\">\n",
       "  <thead>\n",
       "    <tr style=\"text-align: right;\">\n",
       "      <th></th>\n",
       "      <th>Пол</th>\n",
       "      <th>Возраст</th>\n",
       "      <th>Зарплата</th>\n",
       "      <th>Члены семьи</th>\n",
       "      <th>Страховые выплаты</th>\n",
       "    </tr>\n",
       "  </thead>\n",
       "  <tbody>\n",
       "    <tr>\n",
       "      <th>count</th>\n",
       "      <td>5000.000000</td>\n",
       "      <td>5000.000000</td>\n",
       "      <td>5000.000000</td>\n",
       "      <td>5000.000000</td>\n",
       "      <td>5000.000000</td>\n",
       "    </tr>\n",
       "    <tr>\n",
       "      <th>mean</th>\n",
       "      <td>0.499000</td>\n",
       "      <td>30.952800</td>\n",
       "      <td>39916.360000</td>\n",
       "      <td>1.194200</td>\n",
       "      <td>0.148000</td>\n",
       "    </tr>\n",
       "    <tr>\n",
       "      <th>std</th>\n",
       "      <td>0.500049</td>\n",
       "      <td>8.440807</td>\n",
       "      <td>9900.083569</td>\n",
       "      <td>1.091387</td>\n",
       "      <td>0.463183</td>\n",
       "    </tr>\n",
       "    <tr>\n",
       "      <th>min</th>\n",
       "      <td>0.000000</td>\n",
       "      <td>18.000000</td>\n",
       "      <td>5300.000000</td>\n",
       "      <td>0.000000</td>\n",
       "      <td>0.000000</td>\n",
       "    </tr>\n",
       "    <tr>\n",
       "      <th>25%</th>\n",
       "      <td>0.000000</td>\n",
       "      <td>24.000000</td>\n",
       "      <td>33300.000000</td>\n",
       "      <td>0.000000</td>\n",
       "      <td>0.000000</td>\n",
       "    </tr>\n",
       "    <tr>\n",
       "      <th>50%</th>\n",
       "      <td>0.000000</td>\n",
       "      <td>30.000000</td>\n",
       "      <td>40200.000000</td>\n",
       "      <td>1.000000</td>\n",
       "      <td>0.000000</td>\n",
       "    </tr>\n",
       "    <tr>\n",
       "      <th>75%</th>\n",
       "      <td>1.000000</td>\n",
       "      <td>37.000000</td>\n",
       "      <td>46600.000000</td>\n",
       "      <td>2.000000</td>\n",
       "      <td>0.000000</td>\n",
       "    </tr>\n",
       "    <tr>\n",
       "      <th>max</th>\n",
       "      <td>1.000000</td>\n",
       "      <td>65.000000</td>\n",
       "      <td>79000.000000</td>\n",
       "      <td>6.000000</td>\n",
       "      <td>5.000000</td>\n",
       "    </tr>\n",
       "  </tbody>\n",
       "</table>\n",
       "</div>"
      ],
      "text/plain": [
       "               Пол      Возраст      Зарплата  Члены семьи  Страховые выплаты\n",
       "count  5000.000000  5000.000000   5000.000000  5000.000000        5000.000000\n",
       "mean      0.499000    30.952800  39916.360000     1.194200           0.148000\n",
       "std       0.500049     8.440807   9900.083569     1.091387           0.463183\n",
       "min       0.000000    18.000000   5300.000000     0.000000           0.000000\n",
       "25%       0.000000    24.000000  33300.000000     0.000000           0.000000\n",
       "50%       0.000000    30.000000  40200.000000     1.000000           0.000000\n",
       "75%       1.000000    37.000000  46600.000000     2.000000           0.000000\n",
       "max       1.000000    65.000000  79000.000000     6.000000           5.000000"
      ]
     },
     "execution_count": 5,
     "metadata": {},
     "output_type": "execute_result"
    }
   ],
   "source": [
    "data.describe()"
   ]
  },
  {
   "cell_type": "code",
   "execution_count": 6,
   "metadata": {},
   "outputs": [
    {
     "data": {
      "text/plain": [
       "Пол                  0\n",
       "Возраст              0\n",
       "Зарплата             0\n",
       "Члены семьи          0\n",
       "Страховые выплаты    0\n",
       "dtype: int64"
      ]
     },
     "execution_count": 6,
     "metadata": {},
     "output_type": "execute_result"
    }
   ],
   "source": [
    "data.isna().sum()"
   ]
  },
  {
   "cell_type": "code",
   "execution_count": 7,
   "metadata": {},
   "outputs": [
    {
     "data": {
      "text/plain": [
       "153"
      ]
     },
     "execution_count": 7,
     "metadata": {},
     "output_type": "execute_result"
    }
   ],
   "source": [
    "data.duplicated().sum()"
   ]
  },
  {
   "cell_type": "markdown",
   "metadata": {},
   "source": [
    "Наши данные состоят из 5 колонок и 5000 строк, пропусков нет, имеются дубликаты (153), удалим дубликаты, т.к. думаю в нашем исследовании они не нужны."
   ]
  },
  {
   "cell_type": "code",
   "execution_count": 8,
   "metadata": {},
   "outputs": [],
   "source": [
    "data = data.drop_duplicates()"
   ]
  },
  {
   "cell_type": "markdown",
   "metadata": {},
   "source": [
    "Видим что в столбцах \"Возраст\" и \"Зарплата\" тип данных float, хотя значения целые, так что поменяем на целые числа."
   ]
  },
  {
   "cell_type": "code",
   "execution_count": 9,
   "metadata": {},
   "outputs": [],
   "source": [
    "data['Зарплата'] = data['Зарплата'].astype('int')\n",
    "data['Возраст'] = data['Возраст'].astype('int')"
   ]
  },
  {
   "cell_type": "code",
   "execution_count": 10,
   "metadata": {},
   "outputs": [
    {
     "name": "stderr",
     "output_type": "stream",
     "text": [
      "/opt/conda/lib/python3.9/site-packages/seaborn/distributions.py:2557: FutureWarning: `distplot` is a deprecated function and will be removed in a future version. Please adapt your code to use either `displot` (a figure-level function with similar flexibility) or `histplot` (an axes-level function for histograms).\n",
      "  warnings.warn(msg, FutureWarning)\n"
     ]
    },
    {
     "data": {
      "text/plain": [
       "<AxesSubplot:xlabel='Страховые выплаты', ylabel='Density'>"
      ]
     },
     "execution_count": 10,
     "metadata": {},
     "output_type": "execute_result"
    },
    {
     "data": {
      "image/png": "[encoded data removed]",
      "text/plain": [
       "<Figure size 432x288 with 1 Axes>"
      ]
     },
     "metadata": {
      "needs_background": "light"
     },
     "output_type": "display_data"
    }
   ],
   "source": [
    "sns.distplot(data['Страховые выплаты'])"
   ]
  },
  {
   "cell_type": "markdown",
   "metadata": {},
   "source": [
    "Как мы видим, выплат производится очень мало."
   ]
  },
  {
   "cell_type": "code",
   "execution_count": 11,
   "metadata": {},
   "outputs": [
    {
     "name": "stdout",
     "output_type": "stream",
     "text": [
      "                        Пол   Возраст  Зарплата  Члены семьи  \\\n",
      "Пол                1.000000  0.001953  0.015456    -0.007315   \n",
      "Возраст            0.001953  1.000000 -0.017386    -0.009064   \n",
      "Зарплата           0.015456 -0.017386  1.000000    -0.031687   \n",
      "Члены семьи       -0.007315 -0.009064 -0.031687     1.000000   \n",
      "Страховые выплаты  0.011565  0.654964 -0.013123    -0.039303   \n",
      "\n",
      "                   Страховые выплаты  \n",
      "Пол                         0.011565  \n",
      "Возраст                     0.654964  \n",
      "Зарплата                   -0.013123  \n",
      "Члены семьи                -0.039303  \n",
      "Страховые выплаты           1.000000  \n"
     ]
    },
    {
     "data": {
      "image/png": "[encoded data removed]",
      "text/plain": [
       "<Figure size 432x288 with 2 Axes>"
      ]
     },
     "metadata": {
      "needs_background": "light"
     },
     "output_type": "display_data"
    }
   ],
   "source": [
    "print(data.corr())\n",
    "data_plot = sns.heatmap(data.corr(), annot=True)\n",
    "plt.show()"
   ]
  },
  {
   "cell_type": "markdown",
   "metadata": {},
   "source": [
    "<b>ВЫВОД</b>\n",
    "\n",
    "Из графиков видно что, по объёму не выплат страховок больше всего, а если и производятся, то чаще всего это люди старше 40 лет с семьями от 2х человек"
   ]
  },
  {
   "cell_type": "markdown",
   "metadata": {},
   "source": [
    "## Умножение матриц"
   ]
  },
  {
   "cell_type": "markdown",
   "metadata": {},
   "source": [
    "В этом задании вы можете записывать формулы в *Jupyter Notebook.*\n",
    "\n",
    "Чтобы записать формулу внутри текста, окружите её символами доллара \\\\$; если снаружи —  двойными символами \\\\$\\\\$. Эти формулы записываются на языке вёрстки *LaTeX.* \n",
    "\n",
    "Для примера мы записали формулы линейной регрессии. Можете их скопировать и отредактировать, чтобы решить задачу.\n",
    "\n",
    "Работать в *LaTeX* необязательно."
   ]
  },
  {
   "cell_type": "markdown",
   "metadata": {},
   "source": [
    "Обозначения:\n",
    "\n",
    "- $X$ — матрица признаков (нулевой столбец состоит из единиц)\n",
    "\n",
    "- $y$ — вектор целевого признака\n",
    "\n",
    "- $P$ — матрица, на которую умножаются признаки\n",
    "\n",
    "- $w$ — вектор весов линейной регрессии (нулевой элемент равен сдвигу)"
   ]
  },
  {
   "cell_type": "markdown",
   "metadata": {},
   "source": [
    "Предсказания:\n",
    "\n",
    "$$\n",
    "a = Xw\n",
    "$$\n",
    "\n",
    "Задача обучения:\n",
    "\n",
    "$$\n",
    "w = \\arg\\min_w MSE(Xw, y)\n",
    "$$\n",
    "\n",
    "Формула обучения:\n",
    "\n",
    "$$\n",
    "w = (X^T X)^{-1} X^T y\n",
    "$$"
   ]
  },
  {
   "cell_type": "markdown",
   "metadata": {},
   "source": [
    "**Ответ:** Качество линейной регрессии не изменится, изменится лишь вектор весов линейной регрессии для новых признаков.\n",
    "\n",
    "**Обоснование:** Представим нашу новую матрицу признаков как результат умножения исходной матрицы признаков на некую обратимую матрицу:\n",
    "\n",
    "$$\n",
    "X_1 = XP\n",
    "$$"
   ]
  },
  {
   "cell_type": "markdown",
   "metadata": {},
   "source": [
    "В таком случае наша формула обучения примет следующий вид:\n",
    "    \n",
    "$$\n",
    "w_1 = (X^T_1 X_1)^{-1} X^T_1 y\n",
    "$$"
   ]
  },
  {
   "cell_type": "markdown",
   "metadata": {},
   "source": [
    "Подставив в нее значения X_1, получим:    \n",
    "$$\n",
    "w_1 = ((XP)^{T} XP)^{-1} (XP)^{T}y\n",
    "$$"
   ]
  },
  {
   "cell_type": "markdown",
   "metadata": {},
   "source": [
    "Воспользуемся следующими свойствами матриц:\n",
    "    \n",
    "$$\n",
    "A(BC) = (AB)C\n",
    "$$\n",
    "\n",
    "$$\n",
    "(AB)^{-1} = A^{-1} B^{-1}\n",
    "$$\n",
    "\n",
    "$$\n",
    "(AB)^{T} = A^{T} B^{T}\n",
    "$$\n",
    "\n",
    "$$\n",
    "(A^{T})^{-1} = (A^{-1})^{T}\n",
    "$$\n",
    "\n",
    "$$\n",
    "(ABC)^{-1} = C^{-1} B^{-1} A^{-1}\n",
    "$$\n",
    "\n",
    "$$\n",
    "(AA)^{-1} = E\n",
    "$$\n",
    "\n",
    "$$\n",
    "AE = EA = A\n",
    "$$"
   ]
  },
  {
   "cell_type": "markdown",
   "metadata": {},
   "source": [
    "Тогда нашу формулу для расчета вектора весов можно переписать:\n",
    "\n",
    "$$\n",
    "w_1 = ((XP)^{T} XP)^{-1} (XP)^{T}y\n",
    "$$\n",
    "\n",
    "$$\n",
    "w_1 = (P^{T} (X^{T} X)P)^{-1} (XP)^{T}y\n",
    "$$\n",
    "\n",
    "$$\n",
    "w_1 = (P^{T} (X^{T} X)P)^{-1} (P)^{T} (X)^{T}y\n",
    "$$\n",
    "\n",
    "$$\n",
    "w_1 = P^{-1} (X^{T} X)^{-1} (P^{T})^{-1} P^{T}X^{T}y\n",
    "$$\n",
    "\n",
    "$$\n",
    "w_1 = P^{-1} (X^{T} X)^{-1} EX^{T}y\n",
    "$$\n",
    "\n",
    "$$\n",
    "w_1 = P^{-1}w\n",
    "$$"
   ]
  },
  {
   "cell_type": "markdown",
   "metadata": {},
   "source": [
    "Тоже самое, для формулы предсказаний: $$a_1 = X_1 w_1$$, подставив получившиеся значения X_1 = XP\n",
    "и w_1 = P^{-1}w, получим:\n",
    "\n",
    "$$\n",
    "a_1 = XPP^{-1}w <|-|> a_1 = Xw\n",
    "$$"
   ]
  },
  {
   "cell_type": "markdown",
   "metadata": {},
   "source": [
    "## Алгоритм преобразования"
   ]
  },
  {
   "cell_type": "markdown",
   "metadata": {},
   "source": [
    "**Алгоритм**\n",
    "\n",
    "1. Создаём рандомную матрицу \n",
    "2. Проверяем её на обратимость\n",
    "3. Создаём новую матрицу данных \n",
    "4. Ищем метрики качества и на исходных данных и на преобразованных\n",
    "5. Опишем вывод полученных результатов"
   ]
  },
  {
   "cell_type": "markdown",
   "metadata": {},
   "source": [
    "**Обоснование**\n",
    "\n",
    "Если мы произведём умножение признаков тренировочной и тестовой выборок на одну и ту же обратимую матрицу, то результатом предсказания будет произведение нашей изменённой таблицы с признаками на вектор, который был получен из той же таблицы с изменёнными данными увеличенную на ту же величину, что и признаки тренировочных данных."
   ]
  },
  {
   "cell_type": "markdown",
   "metadata": {},
   "source": [
    "## Проверка алгоритма"
   ]
  },
  {
   "cell_type": "code",
   "execution_count": 12,
   "metadata": {},
   "outputs": [],
   "source": [
    "X = data.drop('Страховые выплаты', axis=1).values\n",
    "y = data['Страховые выплаты'].values"
   ]
  },
  {
   "cell_type": "code",
   "execution_count": 13,
   "metadata": {},
   "outputs": [
    {
     "data": {
      "text/plain": [
       "array([[ 0.12470445, -0.24017776,  0.02229809, -1.38062562],\n",
       "       [-0.2652034 , -0.7941938 , -1.12328199, -2.53558864],\n",
       "       [ 0.1623366 ,  1.45060601,  0.0066511 ,  0.70963965],\n",
       "       [-0.22850392,  0.75527886, -1.00088328,  0.07809289]])"
      ]
     },
     "execution_count": 13,
     "metadata": {},
     "output_type": "execute_result"
    }
   ],
   "source": [
    "matrix = np.random.normal(size = (4,4)) \n",
    "matrix"
   ]
  },
  {
   "cell_type": "code",
   "execution_count": 14,
   "metadata": {},
   "outputs": [
    {
     "data": {
      "text/plain": [
       "array([[ 41.70271654, -29.06284898, -26.38184998,  33.37072181],\n",
       "       [ -6.53484973,   4.82190625,   5.12303159,  -5.52312287],\n",
       "       [-14.14384095,  10.01613684,   9.64563175, -12.49113955],\n",
       "       [  3.95086043,  -3.30215546,  -3.11836391,   3.773275  ]])"
      ]
     },
     "execution_count": 14,
     "metadata": {},
     "output_type": "execute_result"
    }
   ],
   "source": [
    "matrix = LA.inv(matrix)\n",
    "matrix"
   ]
  },
  {
   "cell_type": "code",
   "execution_count": 15,
   "metadata": {},
   "outputs": [],
   "source": [
    "def get_rand_matrix(X):\n",
    "    det = 0\n",
    "    while det == 0:\n",
    "        matrix = np.random.normal(size=(data.shape[1], data.shape[1]))\n",
    "        det = np.linalg.det(matrix)\n",
    "    return matrix"
   ]
  },
  {
   "cell_type": "code",
   "execution_count": 16,
   "metadata": {},
   "outputs": [
    {
     "data": {
      "text/plain": [
       "array([[ 0.20827385,  0.44660288, -0.33986189, -0.49797754, -0.76187985],\n",
       "       [ 0.6714392 ,  0.28539736, -0.32934601,  0.87631121,  0.39754707],\n",
       "       [-2.3099056 , -1.01589099,  0.09274362,  1.11162693,  1.48496407],\n",
       "       [ 1.75771181,  0.33387529,  0.78057983,  0.04033109, -0.74081759],\n",
       "       [ 0.42930692,  0.56798947,  0.58513375,  0.0486124 ,  0.36724351]])"
      ]
     },
     "execution_count": 16,
     "metadata": {},
     "output_type": "execute_result"
    }
   ],
   "source": [
    "get_rand_matrix(X)"
   ]
  },
  {
   "cell_type": "markdown",
   "metadata": {},
   "source": [
    "Попробуем создать алгоритм для линейной регрессии."
   ]
  },
  {
   "cell_type": "code",
   "execution_count": 17,
   "metadata": {},
   "outputs": [
    {
     "data": {
      "text/plain": [
       "array([ 0.28879543,  0.58819114,  0.43556561, ..., -0.02396203,\n",
       "       -0.05362882,  0.08863882])"
      ]
     },
     "execution_count": 17,
     "metadata": {},
     "output_type": "execute_result"
    }
   ],
   "source": [
    "X.dot(np.linalg.inv(X.T.dot(X))).dot(X.T).dot(y)"
   ]
  },
  {
   "cell_type": "code",
   "execution_count": 18,
   "metadata": {},
   "outputs": [
    {
     "data": {
      "text/plain": [
       "array([ 0.51932879,  0.69230097,  0.09412745, ..., -0.26164511,\n",
       "       -0.19394186,  0.05044763])"
      ]
     },
     "execution_count": 18,
     "metadata": {},
     "output_type": "execute_result"
    }
   ],
   "source": [
    "model = LinearRegression()\n",
    "model.fit(X,y)\n",
    "predict = model.predict(X)\n",
    "predict"
   ]
  },
  {
   "cell_type": "code",
   "execution_count": 19,
   "metadata": {},
   "outputs": [
    {
     "name": "stdout",
     "output_type": "stream",
     "text": [
      "Метрика качества линейной регрессии R2 на исходных признаках: 0.4302010046633359\n",
      "Метрика качества линейной регрессии R2 на преобразованных признаках: 0.43020100466328604\n"
     ]
    }
   ],
   "source": [
    "model = LinearRegression()\n",
    "model.fit(X, y)\n",
    "predictions = model.predict(X)\n",
    "print('Метрика качества линейной регрессии R2 на исходных признаках:',r2_score(y, predictions))\n",
    "\n",
    "matrix_new = X @ matrix\n",
    "model.fit(matrix_new, y)\n",
    "predictions = model.predict(matrix_new)\n",
    "print('Метрика качества линейной регрессии R2 на преобразованных признаках:',r2_score(y, predictions))"
   ]
  },
  {
   "cell_type": "markdown",
   "metadata": {},
   "source": [
    "Качество линейной регрессии не изменилось, метрика R2 сильно не меняет совего значения, значит можно сделать вывод, что алгоритм преобразования данных работает правильно."
   ]
  },
  {
   "cell_type": "markdown",
   "metadata": {},
   "source": [
    "<b>ВЫВОД</b>\n",
    "\n",
    "От нас требовалось защитить данные клиентов страховой компании «Хоть потоп» и разработать такой метод преобразования данных, чтобы по ним было сложно восстановить персональную информацию.\n",
    "\n",
    "Преобразование требовалось произвести таким образом, чтобы по результату работы нашего алгоритма, качество моделей машинного обучения не ухудшилось.\n",
    "\n",
    "В результате нашей работы был разработан алгоритм, где данные были преобразованы методом умножения признаков исходных данных на обратимую матрицу. Результатом такого преобразования явилась новая (изменённая) матрица признаков, которая справилась с основными задачами.\n",
    "\n",
    "Таким образом мы выполнили требования поставленной задачи и компания «Хоть потоп» будет защищена от утечки персональных данных. "
   ]
  },
  {
   "cell_type": "markdown",
   "metadata": {},
   "source": [
    "## Чек-лист проверки"
   ]
  },
  {
   "cell_type": "markdown",
   "metadata": {},
   "source": [
    "Поставьте 'x' в выполненных пунктах. Далее нажмите Shift+Enter."
   ]
  },
  {
   "cell_type": "markdown",
   "metadata": {},
   "source": [
    "- [x]  Jupyter Notebook открыт\n",
    "- [x]  Весь код выполняется без ошибок\n",
    "- [x]  Ячейки с кодом расположены в порядке исполнения\n",
    "- [x]  Выполнен шаг 1: данные загружены\n",
    "- [x]  Выполнен шаг 2: получен ответ на вопрос об умножении матриц\n",
    "    - [x]  Указан правильный вариант ответа\n",
    "    - [x]  Вариант обоснован\n",
    "- [x]  Выполнен шаг 3: предложен алгоритм преобразования\n",
    "    - [x]  Алгоритм описан\n",
    "    - [x]  Алгоритм обоснован\n",
    "- [x]  Выполнен шаг 4: алгоритм проверен\n",
    "    - [x]  Алгоритм реализован\n",
    "    - [x]  Проведено сравнение качества моделей до и после преобразования"
   ]
  },
  {
   "cell_type": "code",
   "execution_count": null,
   "metadata": {},
   "outputs": [],
   "source": []
  }
 ],
 "metadata": {
  "ExecuteTimeLog": [
   {
    "duration": 1807,
    "start_time": "2022-11-15T20:09:55.775Z"
   },
   {
    "duration": 93,
    "start_time": "2022-11-15T20:09:57.584Z"
   },
   {
    "duration": 13,
    "start_time": "2022-11-15T20:09:57.678Z"
   },
   {
    "duration": 27,
    "start_time": "2022-11-15T20:09:57.759Z"
   },
   {
    "duration": 8,
    "start_time": "2022-11-15T20:10:01.627Z"
   },
   {
    "duration": 123,
    "start_time": "2022-11-15T20:10:02.404Z"
   },
   {
    "duration": 13,
    "start_time": "2022-11-15T20:10:10.009Z"
   },
   {
    "duration": 209,
    "start_time": "2022-11-15T20:10:11.946Z"
   },
   {
    "duration": 16,
    "start_time": "2022-11-15T20:11:32.910Z"
   },
   {
    "duration": 7,
    "start_time": "2022-11-15T20:11:36.542Z"
   },
   {
    "duration": 4,
    "start_time": "2022-11-15T20:12:03.769Z"
   },
   {
    "duration": 10,
    "start_time": "2022-11-15T20:12:07.099Z"
   },
   {
    "duration": 6,
    "start_time": "2022-11-15T20:12:10.955Z"
   },
   {
    "duration": 6,
    "start_time": "2022-11-15T20:14:27.544Z"
   },
   {
    "duration": 5,
    "start_time": "2022-11-15T20:14:30.109Z"
   },
   {
    "duration": 249,
    "start_time": "2022-11-15T20:14:30.606Z"
   },
   {
    "duration": 49,
    "start_time": "2022-11-15T20:15:28.344Z"
   },
   {
    "duration": 48,
    "start_time": "2022-11-15T20:17:40.425Z"
   },
   {
    "duration": 55,
    "start_time": "2022-11-15T20:20:25.137Z"
   },
   {
    "duration": 45,
    "start_time": "2022-11-16T07:11:26.809Z"
   },
   {
    "duration": 1484,
    "start_time": "2022-11-16T07:11:30.511Z"
   },
   {
    "duration": 111,
    "start_time": "2022-11-16T07:11:31.997Z"
   },
   {
    "duration": 11,
    "start_time": "2022-11-16T07:11:32.110Z"
   },
   {
    "duration": 38,
    "start_time": "2022-11-16T07:11:32.123Z"
   },
   {
    "duration": 6,
    "start_time": "2022-11-16T07:11:32.162Z"
   },
   {
    "duration": 6,
    "start_time": "2022-11-16T07:11:32.170Z"
   },
   {
    "duration": 5,
    "start_time": "2022-11-16T07:11:32.178Z"
   },
   {
    "duration": 5,
    "start_time": "2022-11-16T07:11:32.185Z"
   },
   {
    "duration": 199,
    "start_time": "2022-11-16T07:11:32.192Z"
   },
   {
    "duration": 4,
    "start_time": "2022-11-16T07:11:32.393Z"
   },
   {
    "duration": 11,
    "start_time": "2022-11-16T07:11:32.398Z"
   },
   {
    "duration": 113,
    "start_time": "2022-11-16T07:11:32.410Z"
   },
   {
    "duration": 0,
    "start_time": "2022-11-16T07:11:32.524Z"
   },
   {
    "duration": 10,
    "start_time": "2022-11-16T07:19:03.216Z"
   },
   {
    "duration": 5,
    "start_time": "2022-11-16T07:19:08.634Z"
   },
   {
    "duration": 1352,
    "start_time": "2022-11-16T07:19:52.021Z"
   },
   {
    "duration": 30,
    "start_time": "2022-11-16T07:19:53.375Z"
   },
   {
    "duration": 12,
    "start_time": "2022-11-16T07:19:53.407Z"
   },
   {
    "duration": 25,
    "start_time": "2022-11-16T07:19:53.421Z"
   },
   {
    "duration": 6,
    "start_time": "2022-11-16T07:19:53.448Z"
   },
   {
    "duration": 17,
    "start_time": "2022-11-16T07:19:53.455Z"
   },
   {
    "duration": 4,
    "start_time": "2022-11-16T07:19:53.474Z"
   },
   {
    "duration": 9,
    "start_time": "2022-11-16T07:19:53.479Z"
   },
   {
    "duration": 216,
    "start_time": "2022-11-16T07:19:53.489Z"
   },
   {
    "duration": 5,
    "start_time": "2022-11-16T07:19:53.708Z"
   },
   {
    "duration": 19,
    "start_time": "2022-11-16T07:19:53.715Z"
   },
   {
    "duration": 37,
    "start_time": "2022-11-16T07:19:53.735Z"
   },
   {
    "duration": 104,
    "start_time": "2022-11-16T07:19:53.777Z"
   },
   {
    "duration": 5,
    "start_time": "2022-11-16T07:20:29.888Z"
   },
   {
    "duration": 4,
    "start_time": "2022-11-16T07:20:36.314Z"
   },
   {
    "duration": 5,
    "start_time": "2022-11-16T07:20:36.652Z"
   },
   {
    "duration": 6,
    "start_time": "2022-11-16T07:20:37.144Z"
   },
   {
    "duration": 16,
    "start_time": "2022-11-16T07:20:38.579Z"
   },
   {
    "duration": 2140,
    "start_time": "2022-11-16T10:06:02.347Z"
   },
   {
    "duration": 116,
    "start_time": "2022-11-16T10:06:04.489Z"
   },
   {
    "duration": 14,
    "start_time": "2022-11-16T10:06:04.606Z"
   },
   {
    "duration": 76,
    "start_time": "2022-11-16T10:06:04.622Z"
   },
   {
    "duration": 31,
    "start_time": "2022-11-16T10:06:04.699Z"
   },
   {
    "duration": 25,
    "start_time": "2022-11-16T10:06:04.732Z"
   },
   {
    "duration": 29,
    "start_time": "2022-11-16T10:06:04.759Z"
   },
   {
    "duration": 27,
    "start_time": "2022-11-16T10:06:04.790Z"
   },
   {
    "duration": 236,
    "start_time": "2022-11-16T10:06:04.819Z"
   },
   {
    "duration": 5,
    "start_time": "2022-11-16T10:06:05.057Z"
   },
   {
    "duration": 39,
    "start_time": "2022-11-16T10:06:05.063Z"
   },
   {
    "duration": 29,
    "start_time": "2022-11-16T10:06:05.105Z"
   },
   {
    "duration": 203,
    "start_time": "2022-11-16T10:06:05.150Z"
   },
   {
    "duration": 53,
    "start_time": "2022-11-16T18:17:24.532Z"
   },
   {
    "duration": 1585,
    "start_time": "2022-11-16T18:17:29.173Z"
   },
   {
    "duration": 90,
    "start_time": "2022-11-16T18:17:30.760Z"
   },
   {
    "duration": 12,
    "start_time": "2022-11-16T18:17:30.852Z"
   },
   {
    "duration": 44,
    "start_time": "2022-11-16T18:17:30.866Z"
   },
   {
    "duration": 33,
    "start_time": "2022-11-16T18:17:30.912Z"
   },
   {
    "duration": 13,
    "start_time": "2022-11-16T18:17:30.947Z"
   },
   {
    "duration": 25,
    "start_time": "2022-11-16T18:17:30.961Z"
   },
   {
    "duration": 13,
    "start_time": "2022-11-16T18:17:30.988Z"
   },
   {
    "duration": 86,
    "start_time": "2022-11-16T18:17:31.002Z"
   },
   {
    "duration": 199,
    "start_time": "2022-11-16T18:17:31.090Z"
   },
   {
    "duration": 4,
    "start_time": "2022-11-16T18:17:31.291Z"
   },
   {
    "duration": 45,
    "start_time": "2022-11-16T18:17:31.297Z"
   },
   {
    "duration": 10,
    "start_time": "2022-11-16T18:17:31.344Z"
   },
   {
    "duration": 223,
    "start_time": "2022-11-16T18:17:31.355Z"
   },
   {
    "duration": 8,
    "start_time": "2022-11-16T18:18:58.373Z"
   },
   {
    "duration": 230,
    "start_time": "2022-11-16T18:18:59.458Z"
   },
   {
    "duration": 446,
    "start_time": "2022-11-16T18:21:24.713Z"
   },
   {
    "duration": 3,
    "start_time": "2022-11-16T18:21:48.674Z"
   },
   {
    "duration": 330,
    "start_time": "2022-11-16T18:21:52.222Z"
   },
   {
    "duration": 8,
    "start_time": "2022-11-16T18:24:52.600Z"
   },
   {
    "duration": 10,
    "start_time": "2022-11-16T18:38:01.554Z"
   },
   {
    "duration": 5,
    "start_time": "2022-11-16T18:38:03.697Z"
   },
   {
    "duration": 6,
    "start_time": "2022-11-16T18:38:04.195Z"
   },
   {
    "duration": 6,
    "start_time": "2022-11-16T18:38:04.800Z"
   },
   {
    "duration": 91,
    "start_time": "2022-11-16T18:39:02.703Z"
   },
   {
    "duration": 74,
    "start_time": "2022-11-16T18:39:59.495Z"
   },
   {
    "duration": 8,
    "start_time": "2022-11-16T18:40:35.714Z"
   },
   {
    "duration": 12,
    "start_time": "2022-11-16T18:40:37.789Z"
   },
   {
    "duration": 11,
    "start_time": "2022-11-16T18:42:27.471Z"
   },
   {
    "duration": 4,
    "start_time": "2022-11-16T18:43:47.608Z"
   },
   {
    "duration": 10,
    "start_time": "2022-11-16T18:43:48.111Z"
   },
   {
    "duration": 15,
    "start_time": "2022-11-16T18:43:48.707Z"
   },
   {
    "duration": 5,
    "start_time": "2022-11-16T18:43:54.745Z"
   },
   {
    "duration": 4,
    "start_time": "2022-11-16T18:44:40.004Z"
   },
   {
    "duration": 13,
    "start_time": "2022-11-16T18:44:40.860Z"
   },
   {
    "duration": 6,
    "start_time": "2022-11-16T18:44:51.003Z"
   },
   {
    "duration": 5,
    "start_time": "2022-11-16T18:46:26.862Z"
   },
   {
    "duration": 4,
    "start_time": "2022-11-16T18:46:31.449Z"
   },
   {
    "duration": 90,
    "start_time": "2022-11-16T18:47:00.103Z"
   },
   {
    "duration": 87,
    "start_time": "2022-11-16T18:47:04.921Z"
   },
   {
    "duration": 8,
    "start_time": "2022-11-16T18:48:37.703Z"
   },
   {
    "duration": 4,
    "start_time": "2022-11-16T18:48:40.711Z"
   },
   {
    "duration": 3,
    "start_time": "2022-11-16T18:48:41.049Z"
   },
   {
    "duration": 4,
    "start_time": "2022-11-16T18:48:43.458Z"
   },
   {
    "duration": 12,
    "start_time": "2022-11-16T18:49:45.409Z"
   },
   {
    "duration": 15,
    "start_time": "2022-11-16T18:50:01.787Z"
   },
   {
    "duration": 19,
    "start_time": "2022-11-16T18:50:17.973Z"
   },
   {
    "duration": 14,
    "start_time": "2022-11-16T18:50:24.815Z"
   },
   {
    "duration": 11,
    "start_time": "2022-11-16T18:50:38.309Z"
   },
   {
    "duration": 500,
    "start_time": "2022-11-16T18:51:22.886Z"
   },
   {
    "duration": 14,
    "start_time": "2022-11-16T18:52:02.865Z"
   },
   {
    "duration": 1386,
    "start_time": "2022-11-16T18:52:12.099Z"
   },
   {
    "duration": 31,
    "start_time": "2022-11-16T18:52:13.487Z"
   },
   {
    "duration": 14,
    "start_time": "2022-11-16T18:52:13.519Z"
   },
   {
    "duration": 12,
    "start_time": "2022-11-16T18:52:13.535Z"
   },
   {
    "duration": 37,
    "start_time": "2022-11-16T18:52:13.549Z"
   },
   {
    "duration": 7,
    "start_time": "2022-11-16T18:52:13.589Z"
   },
   {
    "duration": 22,
    "start_time": "2022-11-16T18:52:13.598Z"
   },
   {
    "duration": 7,
    "start_time": "2022-11-16T18:52:13.623Z"
   },
   {
    "duration": 12,
    "start_time": "2022-11-16T18:52:13.632Z"
   },
   {
    "duration": 265,
    "start_time": "2022-11-16T18:52:13.646Z"
   },
   {
    "duration": 452,
    "start_time": "2022-11-16T18:52:13.913Z"
   },
   {
    "duration": 66,
    "start_time": "2022-11-16T18:52:14.367Z"
   },
   {
    "duration": 0,
    "start_time": "2022-11-16T18:52:14.436Z"
   },
   {
    "duration": 0,
    "start_time": "2022-11-16T18:52:14.438Z"
   },
   {
    "duration": 0,
    "start_time": "2022-11-16T18:52:14.440Z"
   },
   {
    "duration": 0,
    "start_time": "2022-11-16T18:52:14.442Z"
   },
   {
    "duration": 0,
    "start_time": "2022-11-16T18:52:14.444Z"
   },
   {
    "duration": 0,
    "start_time": "2022-11-16T18:52:14.445Z"
   },
   {
    "duration": 0,
    "start_time": "2022-11-16T18:52:14.447Z"
   },
   {
    "duration": 0,
    "start_time": "2022-11-16T18:52:14.449Z"
   },
   {
    "duration": 149,
    "start_time": "2022-11-16T18:52:56.903Z"
   },
   {
    "duration": 1595,
    "start_time": "2022-11-16T18:53:09.105Z"
   },
   {
    "duration": 28,
    "start_time": "2022-11-16T18:53:10.702Z"
   },
   {
    "duration": 14,
    "start_time": "2022-11-16T18:53:10.732Z"
   },
   {
    "duration": 11,
    "start_time": "2022-11-16T18:53:10.748Z"
   },
   {
    "duration": 41,
    "start_time": "2022-11-16T18:53:10.762Z"
   },
   {
    "duration": 8,
    "start_time": "2022-11-16T18:53:10.805Z"
   },
   {
    "duration": 7,
    "start_time": "2022-11-16T18:53:10.815Z"
   },
   {
    "duration": 10,
    "start_time": "2022-11-16T18:53:10.824Z"
   },
   {
    "duration": 46,
    "start_time": "2022-11-16T18:53:10.836Z"
   },
   {
    "duration": 317,
    "start_time": "2022-11-16T18:53:10.884Z"
   },
   {
    "duration": 455,
    "start_time": "2022-11-16T18:53:11.204Z"
   },
   {
    "duration": 74,
    "start_time": "2022-11-16T18:53:11.661Z"
   },
   {
    "duration": 0,
    "start_time": "2022-11-16T18:53:11.737Z"
   },
   {
    "duration": 0,
    "start_time": "2022-11-16T18:53:11.740Z"
   },
   {
    "duration": 0,
    "start_time": "2022-11-16T18:53:11.741Z"
   },
   {
    "duration": 0,
    "start_time": "2022-11-16T18:53:11.742Z"
   },
   {
    "duration": 0,
    "start_time": "2022-11-16T18:53:11.744Z"
   },
   {
    "duration": 0,
    "start_time": "2022-11-16T18:53:11.745Z"
   },
   {
    "duration": 0,
    "start_time": "2022-11-16T18:53:11.747Z"
   },
   {
    "duration": 0,
    "start_time": "2022-11-16T18:53:11.748Z"
   },
   {
    "duration": 1588,
    "start_time": "2022-11-16T18:54:03.982Z"
   },
   {
    "duration": 33,
    "start_time": "2022-11-16T18:54:05.573Z"
   },
   {
    "duration": 20,
    "start_time": "2022-11-16T18:54:05.608Z"
   },
   {
    "duration": 13,
    "start_time": "2022-11-16T18:54:05.630Z"
   },
   {
    "duration": 37,
    "start_time": "2022-11-16T18:54:05.645Z"
   },
   {
    "duration": 8,
    "start_time": "2022-11-16T18:54:05.685Z"
   },
   {
    "duration": 9,
    "start_time": "2022-11-16T18:54:05.695Z"
   },
   {
    "duration": 19,
    "start_time": "2022-11-16T18:54:05.706Z"
   },
   {
    "duration": 25,
    "start_time": "2022-11-16T18:54:05.726Z"
   },
   {
    "duration": 244,
    "start_time": "2022-11-16T18:54:05.754Z"
   },
   {
    "duration": 405,
    "start_time": "2022-11-16T18:54:05.999Z"
   },
   {
    "duration": 7,
    "start_time": "2022-11-16T18:54:06.405Z"
   },
   {
    "duration": 10,
    "start_time": "2022-11-16T18:54:06.414Z"
   },
   {
    "duration": 10,
    "start_time": "2022-11-16T18:54:06.427Z"
   },
   {
    "duration": 40,
    "start_time": "2022-11-16T18:54:06.439Z"
   },
   {
    "duration": 13,
    "start_time": "2022-11-16T18:54:06.482Z"
   },
   {
    "duration": 494,
    "start_time": "2022-11-16T18:54:06.496Z"
   },
   {
    "duration": 204,
    "start_time": "2022-11-16T18:54:06.992Z"
   },
   {
    "duration": 106,
    "start_time": "2022-11-16T18:54:07.278Z"
   },
   {
    "duration": 4,
    "start_time": "2022-11-16T18:59:11.974Z"
   },
   {
    "duration": 68,
    "start_time": "2022-11-16T18:59:18.996Z"
   },
   {
    "duration": 3,
    "start_time": "2022-11-16T19:00:23.355Z"
   },
   {
    "duration": 6,
    "start_time": "2022-11-16T19:00:23.796Z"
   },
   {
    "duration": 80,
    "start_time": "2022-11-17T06:04:30.632Z"
   },
   {
    "duration": 46,
    "start_time": "2022-11-17T06:04:53.700Z"
   },
   {
    "duration": 1491,
    "start_time": "2022-11-17T06:05:01.520Z"
   },
   {
    "duration": 65,
    "start_time": "2022-11-17T06:05:03.013Z"
   },
   {
    "duration": 12,
    "start_time": "2022-11-17T06:05:03.080Z"
   },
   {
    "duration": 14,
    "start_time": "2022-11-17T06:05:03.093Z"
   },
   {
    "duration": 21,
    "start_time": "2022-11-17T06:05:03.108Z"
   },
   {
    "duration": 5,
    "start_time": "2022-11-17T06:05:03.131Z"
   },
   {
    "duration": 12,
    "start_time": "2022-11-17T06:05:03.138Z"
   },
   {
    "duration": 5,
    "start_time": "2022-11-17T06:05:03.152Z"
   },
   {
    "duration": 22,
    "start_time": "2022-11-17T06:05:03.158Z"
   },
   {
    "duration": 225,
    "start_time": "2022-11-17T06:05:03.184Z"
   },
   {
    "duration": 371,
    "start_time": "2022-11-17T06:05:03.411Z"
   },
   {
    "duration": 6,
    "start_time": "2022-11-17T06:05:03.784Z"
   },
   {
    "duration": 12,
    "start_time": "2022-11-17T06:05:03.792Z"
   },
   {
    "duration": 11,
    "start_time": "2022-11-17T06:05:03.806Z"
   },
   {
    "duration": 241,
    "start_time": "2022-11-17T06:05:03.820Z"
   },
   {
    "duration": 0,
    "start_time": "2022-11-17T06:05:04.063Z"
   },
   {
    "duration": 0,
    "start_time": "2022-11-17T06:05:04.064Z"
   },
   {
    "duration": 0,
    "start_time": "2022-11-17T06:05:04.065Z"
   },
   {
    "duration": 0,
    "start_time": "2022-11-17T06:05:04.066Z"
   },
   {
    "duration": 0,
    "start_time": "2022-11-17T06:05:04.067Z"
   },
   {
    "duration": 1,
    "start_time": "2022-11-17T06:05:04.077Z"
   },
   {
    "duration": 0,
    "start_time": "2022-11-17T06:05:04.078Z"
   },
   {
    "duration": 10,
    "start_time": "2022-11-17T06:05:30.195Z"
   },
   {
    "duration": 72,
    "start_time": "2022-11-17T06:05:44.347Z"
   },
   {
    "duration": 70,
    "start_time": "2022-11-17T06:05:48.407Z"
   },
   {
    "duration": 96,
    "start_time": "2022-11-17T06:06:17.707Z"
   },
   {
    "duration": 1311,
    "start_time": "2022-11-17T06:07:35.926Z"
   },
   {
    "duration": 25,
    "start_time": "2022-11-17T06:07:37.238Z"
   },
   {
    "duration": 13,
    "start_time": "2022-11-17T06:07:37.264Z"
   },
   {
    "duration": 11,
    "start_time": "2022-11-17T06:07:37.278Z"
   },
   {
    "duration": 21,
    "start_time": "2022-11-17T06:07:37.290Z"
   },
   {
    "duration": 5,
    "start_time": "2022-11-17T06:07:37.312Z"
   },
   {
    "duration": 7,
    "start_time": "2022-11-17T06:07:37.318Z"
   },
   {
    "duration": 10,
    "start_time": "2022-11-17T06:07:37.327Z"
   },
   {
    "duration": 5,
    "start_time": "2022-11-17T06:07:37.338Z"
   },
   {
    "duration": 222,
    "start_time": "2022-11-17T06:07:37.345Z"
   },
   {
    "duration": 362,
    "start_time": "2022-11-17T06:07:37.569Z"
   },
   {
    "duration": 5,
    "start_time": "2022-11-17T06:07:37.932Z"
   },
   {
    "duration": 6,
    "start_time": "2022-11-17T06:07:37.938Z"
   },
   {
    "duration": 32,
    "start_time": "2022-11-17T06:07:37.946Z"
   },
   {
    "duration": 181,
    "start_time": "2022-11-17T06:07:37.980Z"
   },
   {
    "duration": 0,
    "start_time": "2022-11-17T06:07:38.163Z"
   },
   {
    "duration": 0,
    "start_time": "2022-11-17T06:07:38.164Z"
   },
   {
    "duration": 0,
    "start_time": "2022-11-17T06:07:38.178Z"
   },
   {
    "duration": 0,
    "start_time": "2022-11-17T06:07:38.180Z"
   },
   {
    "duration": 0,
    "start_time": "2022-11-17T06:07:38.181Z"
   },
   {
    "duration": 1283,
    "start_time": "2022-11-17T06:07:48.329Z"
   },
   {
    "duration": 24,
    "start_time": "2022-11-17T06:07:49.614Z"
   },
   {
    "duration": 11,
    "start_time": "2022-11-17T06:07:49.640Z"
   },
   {
    "duration": 13,
    "start_time": "2022-11-17T06:07:49.653Z"
   },
   {
    "duration": 29,
    "start_time": "2022-11-17T06:07:49.668Z"
   },
   {
    "duration": 6,
    "start_time": "2022-11-17T06:07:49.698Z"
   },
   {
    "duration": 16,
    "start_time": "2022-11-17T06:07:49.706Z"
   },
   {
    "duration": 21,
    "start_time": "2022-11-17T06:07:49.724Z"
   },
   {
    "duration": 6,
    "start_time": "2022-11-17T06:07:49.746Z"
   },
   {
    "duration": 203,
    "start_time": "2022-11-17T06:07:49.755Z"
   },
   {
    "duration": 369,
    "start_time": "2022-11-17T06:07:49.959Z"
   },
   {
    "duration": 5,
    "start_time": "2022-11-17T06:07:50.329Z"
   },
   {
    "duration": 29,
    "start_time": "2022-11-17T06:07:50.335Z"
   },
   {
    "duration": 23,
    "start_time": "2022-11-17T06:07:50.366Z"
   },
   {
    "duration": 13,
    "start_time": "2022-11-17T06:07:50.390Z"
   },
   {
    "duration": 75,
    "start_time": "2022-11-17T06:07:50.405Z"
   },
   {
    "duration": 399,
    "start_time": "2022-11-17T06:07:50.482Z"
   },
   {
    "duration": 98,
    "start_time": "2022-11-17T06:07:50.884Z"
   },
   {
    "duration": 204,
    "start_time": "2022-11-17T06:07:50.984Z"
   }
  ],
  "kernelspec": {
   "display_name": "Python 3 (ipykernel)",
   "language": "python",
   "name": "python3"
  },
  "language_info": {
   "codemirror_mode": {
    "name": "ipython",
    "version": 3
   },
   "file_extension": ".py",
   "mimetype": "text/x-python",
   "name": "python",
   "nbconvert_exporter": "python",
   "pygments_lexer": "ipython3",
   "version": "3.9.5"
  },
  "toc": {
   "base_numbering": 1,
   "nav_menu": {},
   "number_sections": true,
   "sideBar": true,
   "skip_h1_title": true,
   "title_cell": "Содержание",
   "title_sidebar": "Contents",
   "toc_cell": true,
   "toc_position": {},
   "toc_section_display": true,
   "toc_window_display": false
  }
 },
 "nbformat": 4,
 "nbformat_minor": 2
}
